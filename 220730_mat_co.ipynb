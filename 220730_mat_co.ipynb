{
  "nbformat": 4,
  "nbformat_minor": 0,
  "metadata": {
    "colab": {
      "provenance": [],
      "history_visible": true,
      "authorship_tag": "ABX9TyMgrCkbFxOMukGbL/0T/4gr",
      "include_colab_link": true
    },
    "kernelspec": {
      "name": "python3",
      "display_name": "Python 3"
    },
    "language_info": {
      "name": "python"
    }
  },
  "cells": [
    {
      "cell_type": "markdown",
      "metadata": {
        "id": "view-in-github",
        "colab_type": "text"
      },
      "source": [
        "<a href=\"https://colab.research.google.com/github/Tom101010/drill01/blob/master/220730_mat_co.ipynb\" target=\"_parent\"><img src=\"https://colab.research.google.com/assets/colab-badge.svg\" alt=\"Open In Colab\"/></a>"
      ]
    },
    {
      "cell_type": "code",
      "execution_count": 1,
      "metadata": {
        "colab": {
          "base_uri": "https://localhost:8080/",
          "height": 355
        },
        "id": "c0EEus5g-GCE",
        "outputId": "b7e8a5c4-0a9c-4e67-c0c7-972e6875f253"
      },
      "outputs": [
        {
          "output_type": "display_data",
          "data": {
            "text/plain": [
              "<Figure size 460.8x345.6 with 5 Axes>"
            ],
            "image/png": "[encoded data removed]"
          },
          "metadata": {
            "needs_background": "light"
          }
        }
      ],
      "source": [
        "import matplotlib.pyplot as plt\n",
        "\n",
        "x = [-0.1,0.1,0.2,0.4,0.5,0.7,1]\n",
        "y = [2,1,0,0.5,-1,0,3]\n",
        "fig = plt.figure(tight_layout=True,figsize= (6.4,4.8))\n",
        "ax1 = plt.subplot2grid((3,4),(0,0),colspan=4)\n",
        "ax1.plot(x,y,'r.')\n",
        "\n",
        "ax2 = plt.subplot2grid((3,4),(1,0),rowspan=2,colspan=2)\n",
        "ax2.plot(x,y,'b:')\n",
        "\n",
        "ax3 = plt.subplot2grid((3,4),(1,2),colspan=2)\n",
        "ax3.plot(x,y,'k')\n",
        "\n",
        "ax4 = plt.subplot2grid((3,4),(2,2),)\n",
        "ax4.plot(x,y,'b.')\n",
        "\n",
        "ax5 = plt.subplot2grid((3,4),(2,3))\n",
        "ax5.plot(x,y,'go-.')\n",
        "ax5.axis('equal')\n",
        "\n",
        "#ax5.set(xlim=(-1,1.5), ylim=(-1,3))\n",
        "#plt.xlim([-1,1.5]), plt.ylim=([-1,3])\n",
        "\n",
        "plt.show()"
      ]
    },
    {
      "cell_type": "markdown",
      "source": [
        "# 새 섹션"
      ],
      "metadata": {
        "id": "oyrbOqVE7jqi"
      }
    },
    {
      "cell_type": "markdown",
      "source": [],
      "metadata": {
        "id": "0XY1OHUQQlF0"
      }
    },
    {
      "cell_type": "markdown",
      "source": [],
      "metadata": {
        "id": "eW1tuawAQlIE"
      }
    },
    {
      "cell_type": "code",
      "source": [
        "#@title Example form fields\n",
        "#@markdown Forms support many types of fields.\n",
        "\n",
        "no_type_checking = ''  #@param\n",
        "string_type = 'example'  #@param {type: \"string\"}\n",
        "slider_value = 142  #@param {type: \"slider\", min: 100, max: 200}\n",
        "number = 102  #@param {type: \"number\"}\n",
        "date = '2010-11-05'  #@param {type: \"date\"}\n",
        "pick_me = \"monday\"  #@param ['monday', 'tuesday', 'wednesday', 'thursday']\n",
        "select_or_input = \"apples\" #@param [\"apples\", \"bananas\", \"oranges\"] {allow-input: true}\n",
        "#@markdown ---\n"
      ],
      "metadata": {
        "id": "LjiDKpqhR7Hk"
      },
      "execution_count": null,
      "outputs": []
    },
    {
      "cell_type": "markdown",
      "source": [
        "# 새 섹션"
      ],
      "metadata": {
        "id": "iSC_bYzm7kVL"
      }
    },
    {
      "cell_type": "code",
      "source": [],
      "metadata": {
        "id": "6X9zkVXYPrPw"
      },
      "execution_count": null,
      "outputs": []
    },
    {
      "cell_type": "code",
      "source": [],
      "metadata": {
        "id": "6NrFVh4nPr30"
      },
      "execution_count": null,
      "outputs": []
    },
    {
      "cell_type": "code",
      "source": [],
      "metadata": {
        "id": "k88XcWnrPsPj"
      },
      "execution_count": null,
      "outputs": []
    },
    {
      "cell_type": "code",
      "source": [
        "from google.colab import drive\n",
        "drive.mount('/content/drive')"
      ],
      "metadata": {
        "id": "Cd0rLvwoP1Gt"
      },
      "execution_count": null,
      "outputs": []
    },
    {
      "cell_type": "code",
      "source": [],
      "metadata": {
        "id": "I5lEgzdD-uQB"
      },
      "execution_count": null,
      "outputs": []
    }
  ]
}